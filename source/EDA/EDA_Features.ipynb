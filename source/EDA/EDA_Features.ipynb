{
 "cells": [
  {
   "cell_type": "markdown",
   "id": "20fd144c",
   "metadata": {},
   "source": [
    "# EDA for Features/Responders.csv"
   ]
  },
  {
   "cell_type": "code",
   "execution_count": null,
   "id": "1a569c35",
   "metadata": {},
   "outputs": [],
   "source": [
    "import pandas as pd\n",
    "import numpy as np\n",
    "import polars as pl\n",
    "import matplotlib.pyplot as plt\n",
    "import seaborn as sns\n",
    "import json\n",
    "import os"
   ]
  },
  {
   "cell_type": "code",
   "execution_count": null,
   "id": "a221f340",
   "metadata": {},
   "outputs": [],
   "source": [
    "# Load configuration\n",
    "with open(\"../config.json\", \"r\") as f:\n",
    "    config = json.load(f)\n",
    "\n",
    "global_path = config[\"path\"][\"global_path\"]\n",
    "data_path = os.path.join(global_path, \"data\", \"raw\", \"jane-street-real-time-market-data-forecasting\")"
   ]
  },
  {
   "cell_type": "code",
   "execution_count": null,
   "id": "5457da14",
   "metadata": {},
   "outputs": [],
   "source": [
    "features_df = pd.read_csv(os.path.join(data_path, \"features.csv\"))\n",
    "responders_df = pd.read_csv(os.path.join(data_path, \"responders.csv\"))\n",
    "features_df.shape, responders_df.shape"
   ]
  },
  {
   "cell_type": "code",
   "execution_count": null,
   "id": "6980ee1b",
   "metadata": {},
   "outputs": [],
   "source": [
    "train_path = os.path.join(data_path, \"train.parquet\", \"partition_id=0\")\n",
    "sample_data = pl.scan_parquet(train_path).collect().to_pandas()\n",
    "\n",
    "# Get feature columns\n",
    "feature_cols = [f'feature_{i:02d}' for i in range(79)]\n",
    "feature_data = sample_data[feature_cols]\n",
    "\n",
    "# Calculate correlation\n",
    "correlation = feature_data.corr()\n",
    "\n",
    "# Create the heatmap\n",
    "plt.figure(figsize=(12, 10))\n",
    "sns.heatmap(correlation, \n",
    "            cmap='RdBu_r', \n",
    "            center=0,\n",
    "            cbar_kws={'label': 'Correlation'})\n",
    "plt.title('Feature Correlation Heatmap')\n",
    "plt.tight_layout()\n",
    "plt.show()"
   ]
  }
 ],
 "metadata": {
  "kernelspec": {
   "display_name": "Python 3",
   "language": "python",
   "name": "python3"
  },
  "language_info": {
   "codemirror_mode": {
    "name": "ipython",
    "version": 3
   },
   "file_extension": ".py",
   "mimetype": "text/x-python",
   "name": "python",
   "nbconvert_exporter": "python",
   "pygments_lexer": "ipython3",
   "version": "3.13.5"
  }
 },
 "nbformat": 4,
 "nbformat_minor": 5
}
