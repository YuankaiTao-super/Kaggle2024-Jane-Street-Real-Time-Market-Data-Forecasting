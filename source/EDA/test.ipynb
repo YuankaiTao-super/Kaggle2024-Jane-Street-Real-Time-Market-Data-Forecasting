{
 "cells": [
  {
   "cell_type": "code",
   "execution_count": null,
   "id": "accf77b3",
   "metadata": {},
   "outputs": [],
   "source": [
    "import polars as pl\n",
    "import os\n",
    "import json"
   ]
  },
  {
   "cell_type": "code",
   "execution_count": null,
   "id": "73b5ea2f",
   "metadata": {},
   "outputs": [],
   "source": [
    "# Read config file - pay attention to correct path\n",
    "with open(\"../config.json\", \"r\") as f:\n",
    "    config = json.load(f)\n",
    "\n",
    "# Corrected: should now be config[\"path\"][\"global_path\"]\n",
    "global_path = config[\"path\"][\"global_path\"]\n",
    "\n",
    "# Build data paths\n",
    "data_path = os.path.join(global_path, \"data\", \"raw\", \"jane-street-real-time-market-data-forecasting\")\n",
    "train_path = os.path.join(data_path, \"train.parquet\")\n",
    "\n",
    "# Method 1: directly specify partition path\n",
    "partition_0_path = os.path.join(train_path, \"partition_id=0\")\n",
    "train_partition_0 = pl.scan_parquet(partition_0_path)\n",
    "\n",
    "# View first 10 rows of data\n",
    "sample_data = train_partition_0.limit(10).collect()\n",
    "print(f\"\\nPartition 0 size of top 10 rows: {sample_data.shape}\")\n",
    "print(f\"rows: {len(sample_data)}\")\n",
    "\n",
    "# Display all column names vertically - clearer and more readable\n",
    "print(f\"\\nAll column names (total {len(sample_data.columns)} columns):\")\n",
    "for i, col in enumerate(sample_data.columns, 1):\n",
    "    print(f\"{i:3d}. {col}\")\n",
    "\n",
    "print(f\"\\nFirst 10 rows of data:\")\n",
    "print(sample_data)"
   ]
  },
  {
   "cell_type": "code",
   "execution_count": null,
   "id": "9438b89a",
   "metadata": {},
   "outputs": [],
   "source": []
  }
 ],
 "metadata": {
  "kernelspec": {
   "display_name": "Python 3",
   "language": "python",
   "name": "python3"
  },
  "language_info": {
   "codemirror_mode": {
    "name": "ipython",
    "version": 3
   },
   "file_extension": ".py",
   "mimetype": "text/x-python",
   "name": "python",
   "nbconvert_exporter": "python",
   "pygments_lexer": "ipython3",
   "version": "3.13.5"
  }
 },
 "nbformat": 4,
 "nbformat_minor": 5
}
