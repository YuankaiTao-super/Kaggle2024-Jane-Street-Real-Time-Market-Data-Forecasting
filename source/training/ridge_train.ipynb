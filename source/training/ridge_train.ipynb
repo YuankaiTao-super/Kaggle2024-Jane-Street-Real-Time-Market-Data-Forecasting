{
 "cells": [
  {
   "cell_type": "code",
   "execution_count": 1,
   "id": "08c83625",
   "metadata": {
    "execution": {
     "iopub.execute_input": "2024-10-24T01:29:32.499889Z",
     "iopub.status.busy": "2024-10-24T01:29:32.499266Z",
     "iopub.status.idle": "2024-10-24T01:29:35.627660Z",
     "shell.execute_reply": "2024-10-24T01:29:35.626243Z"
    },
    "papermill": {
     "duration": 3.134973,
     "end_time": "2024-10-24T01:29:35.630424",
     "exception": false,
     "start_time": "2024-10-24T01:29:32.495451",
     "status": "completed"
    },
    "tags": []
   },
   "outputs": [],
   "source": [
    "#necessary\n",
    "import polars as pl#similar to pandas, but with better performance when dealing with large datasets.\n",
    "import pandas as pd#read csv,parquet\n",
    "import numpy as np#for scientific computation of matrices\n",
    "#model\n",
    "from sklearn.linear_model import Ridge\n",
    "import os#Libraries that interact with the operating system\n",
    "import gc\n",
    "import warnings#avoid some negligible errors\n",
    "#The filterwarnings () method is used to set warning filters, which can control the output method and level of warning information.\n",
    "warnings.filterwarnings('ignore')\n",
    "#environment provided by competition hoster\n",
    "import kaggle_evaluation.jane_street_inference_server\n",
    "\n",
    "import random#provides some functions for generating random numbers\n",
    "#set random seed,make sure model can be recurrented.\n",
    "def seed_everything(seed):\n",
    "    np.random.seed(seed)#numpy random seed\n",
    "    random.seed(seed)#python built-in random seed\n",
    "seed_everything(seed=2025)"
   ]
  },
  {
   "cell_type": "code",
   "execution_count": 2,
   "id": "bfe2d7b1",
   "metadata": {
    "execution": {
     "iopub.execute_input": "2024-10-24T01:29:35.643396Z",
     "iopub.status.busy": "2024-10-24T01:29:35.642833Z",
     "iopub.status.idle": "2024-10-24T01:31:23.677625Z",
     "shell.execute_reply": "2024-10-24T01:31:23.676498Z"
    },
    "papermill": {
     "duration": 108.043362,
     "end_time": "2024-10-24T01:31:23.681846",
     "exception": false,
     "start_time": "2024-10-24T01:29:35.638484",
     "status": "completed"
    },
    "tags": []
   },
   "outputs": [
    {
     "name": "stdout",
     "output_type": "stream",
     "text": [
      "< read parquet >\n",
      "train.shape:(20462339, 91)\n",
      "< get X,y >\n",
      "< train test split >\n",
      "train_X.shape:(20262339, 79),test_X.shape:(200000, 79)\n",
      "< fit and predict >\n",
      "train weighted_r2:0.006252706050872803\n",
      "test weighted_r2:0.0024012327194213867\n"
     ]
    }
   ],
   "source": [
    "def custom_metric(y_true,y_pred,weight):\n",
    "    weighted_r2=1-(np.sum(weight*(y_true-y_pred)**2)/np.sum(weight*y_true**2))\n",
    "    return weighted_r2\n",
    "    \n",
    "print(\"< read parquet >\")\n",
    "datas=[]\n",
    "weights=[]\n",
    "for i in range(6,10):\n",
    "    train=pl.read_parquet(f\"/kaggle/input/jane-street-real-time-market-data-forecasting/train.parquet/partition_id={i}/part-0.parquet\")\n",
    "    train=train.to_pandas().sample(frac=0.82, random_state=2025)\n",
    "    weights+=list(train['weight'].values)\n",
    "    train.drop(['weight'],axis=1,inplace=True)\n",
    "    datas.append(train)\n",
    "train=pd.concat(datas)\n",
    "del datas\n",
    "gc.collect()\n",
    "print(f\"train.shape:{train.shape}\")\n",
    "\n",
    "print(\"< get X,y >\")\n",
    "cols=[f'feature_0{i}' if i<10 else f'feature_{i}' for i in range(79)]\n",
    "X=train[cols].fillna(3).values\n",
    "y=train['responder_6'].values\n",
    "del train\n",
    "gc.collect()\n",
    "\n",
    "print(\"< train test split >\")\n",
    "split=200000#around 1%\n",
    "train_X,train_y,test_X,test_y,train_weight,test_weight=X[:-split],y[:-split],X[-split:],y[-split:],weights[:-split],weights[-split:]\n",
    "print(f\"train_X.shape:{train_X.shape},test_X.shape:{test_X.shape}\")\n",
    "\n",
    "print(\"< fit and predict >\")\n",
    "model=Ridge()\n",
    "model.fit(train_X,train_y)\n",
    "train_pred=model.predict(train_X)\n",
    "test_pred=model.predict(test_X)\n",
    "print(f\"train weighted_r2:{custom_metric(train_y,train_pred,weight=train_weight)}\")\n",
    "print(f\"test weighted_r2:{custom_metric(test_y,test_pred,weight=test_weight)}\")"
   ]
  },
  {
   "cell_type": "code",
   "execution_count": 3,
   "id": "e819c79c",
   "metadata": {
    "execution": {
     "iopub.execute_input": "2024-10-24T01:31:23.689591Z",
     "iopub.status.busy": "2024-10-24T01:31:23.688668Z",
     "iopub.status.idle": "2024-10-24T01:31:23.695053Z",
     "shell.execute_reply": "2024-10-24T01:31:23.694003Z"
    },
    "papermill": {
     "duration": 0.012498,
     "end_time": "2024-10-24T01:31:23.697186",
     "exception": false,
     "start_time": "2024-10-24T01:31:23.684688",
     "status": "completed"
    },
    "tags": []
   },
   "outputs": [],
   "source": [
    "def predict(test,lags):\n",
    "    cols=[f'feature_0{i}' if i<10 else f'feature_{i}' for i in range(79)]\n",
    "    predictions = test.select(\n",
    "        'row_id',\n",
    "        pl.lit(0.0).alias('responder_6'),\n",
    "    )\n",
    "    test=test.to_pandas()[cols].fillna(3)\n",
    "    test_preds=model.predict(test.values)\n",
    "    predictions = predictions.with_columns(pl.Series('responder_6', test_preds.ravel()))\n",
    "    return predictions"
   ]
  },
  {
   "cell_type": "code",
   "execution_count": 4,
   "id": "499ac208",
   "metadata": {
    "execution": {
     "iopub.execute_input": "2024-10-24T01:31:23.705287Z",
     "iopub.status.busy": "2024-10-24T01:31:23.704416Z",
     "iopub.status.idle": "2024-10-24T01:31:24.148079Z",
     "shell.execute_reply": "2024-10-24T01:31:24.146856Z"
    },
    "papermill": {
     "duration": 0.450393,
     "end_time": "2024-10-24T01:31:24.150576",
     "exception": false,
     "start_time": "2024-10-24T01:31:23.700183",
     "status": "completed"
    },
    "tags": []
   },
   "outputs": [],
   "source": [
    "inference_server = kaggle_evaluation.jane_street_inference_server.JSInferenceServer(predict)\n",
    "\n",
    "if os.getenv('KAGGLE_IS_COMPETITION_RERUN'):\n",
    "    inference_server.serve()\n",
    "else:\n",
    "    inference_server.run_local_gateway(\n",
    "        (\n",
    "            '/kaggle/input/jane-street-real-time-market-data-forecasting/test.parquet',\n",
    "            '/kaggle/input/jane-street-real-time-market-data-forecasting/lags.parquet',\n",
    "        )\n",
    "    )"
   ]
  }
 ],
 "metadata": {
  "kaggle": {
   "accelerator": "none",
   "dataSources": [
    {
     "databundleVersionId": 9871156,
     "sourceId": 84493,
     "sourceType": "competition"
    }
   ],
   "dockerImageVersionId": 30786,
   "isGpuEnabled": false,
   "isInternetEnabled": false,
   "language": "python",
   "sourceType": "notebook"
  },
  "kernelspec": {
   "display_name": "Python 3 (ipykernel)",
   "language": "python",
   "name": "python3"
  },
  "language_info": {
   "codemirror_mode": {
    "name": "ipython",
    "version": 3
   },
   "file_extension": ".py",
   "mimetype": "text/x-python",
   "name": "python",
   "nbconvert_exporter": "python",
   "pygments_lexer": "ipython3",
   "version": "3.9.13"
  },
  "papermill": {
   "default_parameters": {},
   "duration": 116.077843,
   "end_time": "2024-10-24T01:31:25.685462",
   "environment_variables": {},
   "exception": null,
   "input_path": "__notebook__.ipynb",
   "output_path": "__notebook__.ipynb",
   "parameters": {},
   "start_time": "2024-10-24T01:29:29.607619",
   "version": "2.6.0"
  }
 },
 "nbformat": 4,
 "nbformat_minor": 5
}
