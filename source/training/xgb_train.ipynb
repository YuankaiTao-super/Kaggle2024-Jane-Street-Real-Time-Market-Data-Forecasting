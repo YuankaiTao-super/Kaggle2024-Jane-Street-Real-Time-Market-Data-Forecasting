{
 "cells": [
  {
   "cell_type": "code",
   "execution_count": null,
   "metadata": {
    "execution": {
     "iopub.execute_input": "2024-10-28T10:55:51.201003Z",
     "iopub.status.busy": "2024-10-28T10:55:51.200489Z",
     "iopub.status.idle": "2024-10-28T10:55:57.172987Z",
     "shell.execute_reply": "2024-10-28T10:55:57.172172Z",
     "shell.execute_reply.started": "2024-10-28T10:55:51.200968Z"
    }
   },
   "outputs": [],
   "source": [
    "import pandas as pd\n",
    "import polars as pl\n",
    "import numpy as np\n",
    "import os\n",
    "from tqdm.auto import tqdm\n",
    "from matplotlib import pyplot as plt\n",
    "import pickle\n",
    "\n",
    "from sklearn.metrics import r2_score\n",
    "from lightgbm import LGBMRegressor\n",
    "import lightgbm as lgb\n",
    "from xgboost import XGBRegressor\n",
    "from catboost import CatBoostRegressor\n",
    "from sklearn.ensemble import VotingRegressor\n",
    "\n",
    "import warnings\n",
    "warnings.filterwarnings('ignore')\n",
    "pd.options.display.max_columns = None\n",
    "\n",
    "import kaggle_evaluation.jane_street_inference_server"
   ]
  },
  {
   "cell_type": "markdown",
   "metadata": {},
   "source": [
    "# Configurations"
   ]
  },
  {
   "cell_type": "code",
   "execution_count": null,
   "metadata": {
    "execution": {
     "iopub.execute_input": "2024-10-28T10:55:57.175034Z",
     "iopub.status.busy": "2024-10-28T10:55:57.174496Z",
     "iopub.status.idle": "2024-10-28T10:55:57.180386Z",
     "shell.execute_reply": "2024-10-28T10:55:57.179293Z",
     "shell.execute_reply.started": "2024-10-28T10:55:57.174998Z"
    }
   },
   "outputs": [],
   "source": [
    "class CONFIG:\n",
    "    seed = 42\n",
    "    target_col = \"responder_6\"\n",
    "    feature_cols = [\"symbol_id\", \"time_id\"] \\\n",
    "        + [f\"feature_{idx:02d}\" for idx in range(79)] \\\n",
    "        + [f\"responder_{idx}_lag_1\" for idx in range(9)]\n",
    "    categorical_cols = []"
   ]
  },
  {
   "cell_type": "markdown",
   "metadata": {},
   "source": [
    "# Load Data"
   ]
  },
  {
   "cell_type": "code",
   "execution_count": null,
   "metadata": {
    "execution": {
     "iopub.execute_input": "2024-10-28T10:55:57.182089Z",
     "iopub.status.busy": "2024-10-28T10:55:57.181678Z",
     "iopub.status.idle": "2024-10-28T10:56:32.40771Z",
     "shell.execute_reply": "2024-10-28T10:56:32.406705Z",
     "shell.execute_reply.started": "2024-10-28T10:55:57.181946Z"
    }
   },
   "outputs": [],
   "source": [
    "train = pl.scan_parquet(\"/kaggle/input/js24-preprocessing-create-lags/training.parquet\").collect().to_pandas()\n",
    "valid = pl.scan_parquet(\"/kaggle/input/js24-preprocessing-create-lags/validation.parquet\").collect().to_pandas()\n",
    "train.shape, valid.shape"
   ]
  },
  {
   "cell_type": "code",
   "execution_count": null,
   "metadata": {},
   "outputs": [],
   "source": [
    "# Trick of boosting LB score: 0.45->0.49\n",
    "train = pd.concat([train, valid]).reset_index(drop=True)\n",
    "train.shape"
   ]
  },
  {
   "cell_type": "markdown",
   "metadata": {},
   "source": [
    "# GBDT models"
   ]
  },
  {
   "cell_type": "code",
   "execution_count": null,
   "metadata": {
    "execution": {
     "iopub.execute_input": "2024-10-28T10:56:32.41085Z",
     "iopub.status.busy": "2024-10-28T10:56:32.410549Z",
     "iopub.status.idle": "2024-10-28T10:56:32.416638Z",
     "shell.execute_reply": "2024-10-28T10:56:32.41576Z",
     "shell.execute_reply.started": "2024-10-28T10:56:32.410819Z"
    }
   },
   "outputs": [],
   "source": [
    "def get_model(seed):\n",
    "    # XGBoost parameters\n",
    "    XGB_Params = {\n",
    "        'learning_rate': 0.05,\n",
    "        'max_depth': 6,\n",
    "        'n_estimators': 200,\n",
    "        'subsample': 0.8,\n",
    "        'colsample_bytree': 0.8,\n",
    "        'reg_alpha': 1,\n",
    "        'reg_lambda': 5,\n",
    "        'random_state': seed,\n",
    "        'tree_method': 'gpu_hist',\n",
    "        'device' : 'cuda',\n",
    "        'n_gpus' : 2,\n",
    "    }\n",
    "    \n",
    "    XGB_Model = XGBRegressor(**XGB_Params)\n",
    "    return XGB_Model"
   ]
  },
  {
   "cell_type": "markdown",
   "metadata": {},
   "source": [
    "# Training model"
   ]
  },
  {
   "cell_type": "code",
   "execution_count": null,
   "metadata": {
    "execution": {
     "iopub.execute_input": "2024-10-28T10:56:32.417996Z",
     "iopub.status.busy": "2024-10-28T10:56:32.41769Z",
     "iopub.status.idle": "2024-10-28T10:56:36.175344Z",
     "shell.execute_reply": "2024-10-28T10:56:36.174362Z",
     "shell.execute_reply.started": "2024-10-28T10:56:32.417964Z"
    }
   },
   "outputs": [],
   "source": [
    "X_train = train[ CONFIG.feature_cols ]\n",
    "y_train = train[ CONFIG.target_col ]\n",
    "w_train = train[ \"weight\" ]\n",
    "X_valid = valid[ CONFIG.feature_cols ]\n",
    "y_valid = valid[ CONFIG.target_col ]\n",
    "w_valid = valid[ \"weight\" ]\n",
    "\n",
    "X_train.shape, y_train.shape, w_train.shape, X_valid.shape, y_valid.shape, w_valid.shape"
   ]
  },
  {
   "cell_type": "code",
   "execution_count": null,
   "metadata": {
    "execution": {
     "iopub.execute_input": "2024-10-28T10:56:36.176729Z",
     "iopub.status.busy": "2024-10-28T10:56:36.176427Z"
    }
   },
   "outputs": [],
   "source": [
    "%%time\n",
    "model = get_model(CONFIG.seed)\n",
    "model.fit( X_train, y_train, sample_weight=w_train)"
   ]
  },
  {
   "cell_type": "code",
   "execution_count": null,
   "metadata": {},
   "outputs": [],
   "source": [
    "y_pred_train1 = model.predict(X_train.iloc[:X_train.shape[0]//2])\n",
    "y_pred_train2 = model.predict(X_train.iloc[X_train.shape[0]//2:])\n",
    "train_score = r2_score(y_train, np.concatenate([y_pred_train1, y_pred_train2], axis=0), sample_weight=w_train )\n",
    "train_score"
   ]
  },
  {
   "cell_type": "code",
   "execution_count": null,
   "metadata": {
    "_cell_guid": "b1076dfc-b9ad-4769-8c92-a6c4dae69d19",
    "_uuid": "8f2839f25d086af736a60e9eeb907d3b93b6e0e5",
    "papermill": {
     "duration": 1.594977,
     "end_time": "2024-10-10T11:58:33.569648",
     "exception": false,
     "start_time": "2024-10-10T11:58:31.974671",
     "status": "completed"
    },
    "tags": []
   },
   "outputs": [],
   "source": [
    "y_pred_valid = model.predict(X_valid)\n",
    "valid_score = r2_score(y_valid, y_pred_valid, sample_weight=w_valid )\n",
    "valid_score"
   ]
  },
  {
   "cell_type": "code",
   "execution_count": null,
   "metadata": {},
   "outputs": [],
   "source": [
    "y_means = { symbol_id : -1 for symbol_id in range(39) }\n",
    "for symbol_id, gdf in train[[\"symbol_id\", CONFIG.target_col]].groupby(\"symbol_id\"):\n",
    "    y_mean = gdf[ CONFIG.target_col ].mean()\n",
    "    y_means[symbol_id] = y_mean\n",
    "    print(f\"symbol_id = {symbol_id}, y_means = {y_mean:.5f}\")"
   ]
  },
  {
   "cell_type": "code",
   "execution_count": null,
   "metadata": {},
   "outputs": [],
   "source": [
    "cv_detail = { symbol_id : 0 for symbol_id in range(39) }\n",
    "for symbol_id, gdf in valid.groupby(\"symbol_id\"):\n",
    "    X_valid = gdf[ CONFIG.feature_cols ]\n",
    "    y_valid = gdf[ CONFIG.target_col ]\n",
    "    w_valid = gdf[ \"weight\" ]\n",
    "    y_pred_valid = model.predict(X_valid)\n",
    "    score = r2_score(y_valid, y_pred_valid, sample_weight=w_valid )\n",
    "    cv_detail[symbol_id] = score\n",
    "    \n",
    "    print(f\"symbol_id = {symbol_id}, score = {score:.5f}\")"
   ]
  },
  {
   "cell_type": "code",
   "execution_count": null,
   "metadata": {},
   "outputs": [],
   "source": [
    "sids = list(cv_detail.keys())\n",
    "plt.bar(sids, [cv_detail[sid] for sid in sids])\n",
    "plt.grid()\n",
    "plt.xlabel(\"symbol_id\")\n",
    "plt.ylabel(\"CV score\")\n",
    "plt.show()"
   ]
  },
  {
   "cell_type": "markdown",
   "metadata": {},
   "source": [
    "# Save result"
   ]
  },
  {
   "cell_type": "code",
   "execution_count": null,
   "metadata": {},
   "outputs": [],
   "source": [
    "result = {\n",
    "    \"model\" : model,\n",
    "    \"cv\" : valid_score,\n",
    "    \"cv_detail\" : cv_detail,\n",
    "    \"y_mean\" : y_means,\n",
    "}\n",
    "with open(\"result.pkl\", \"wb\") as fp:\n",
    "    pickle.dump(result, fp)"
   ]
  }
 ],
 "metadata": {
  "kaggle": {
   "accelerator": "none",
   "dataSources": [
    {
     "databundleVersionId": 9871156,
     "sourceId": 84493,
     "sourceType": "competition"
    },
    {
     "sourceId": 203900450,
     "sourceType": "kernelVersion"
    }
   ],
   "dockerImageVersionId": 30787,
   "isGpuEnabled": false,
   "isInternetEnabled": false,
   "language": "python",
   "sourceType": "notebook"
  },
  "kernelspec": {
   "display_name": "Python 3 (ipykernel)",
   "language": "python",
   "name": "python3"
  },
  "language_info": {
   "codemirror_mode": {
    "name": "ipython",
    "version": 3
   },
   "file_extension": ".py",
   "mimetype": "text/x-python",
   "name": "python",
   "nbconvert_exporter": "python",
   "pygments_lexer": "ipython3",
   "version": "3.9.13"
  },
  "papermill": {
   "default_parameters": {},
   "duration": 7.594014,
   "end_time": "2024-10-10T11:58:36.355301",
   "environment_variables": {},
   "exception": null,
   "input_path": "__notebook__.ipynb",
   "output_path": "__notebook__.ipynb",
   "parameters": {},
   "start_time": "2024-10-10T11:58:28.761287",
   "version": "2.6.0"
  }
 },
 "nbformat": 4,
 "nbformat_minor": 4
}
